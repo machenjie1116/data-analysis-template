{
 "metadata": {
  "name": "",
  "signature": "sha256:9c2f3850f9b0a043fae5074531fe792720d2beaed1b7d1b1c9269f8b7509b578"
 },
 "nbformat": 3,
 "nbformat_minor": 0,
 "worksheets": [
  {
   "cells": [
    {
     "cell_type": "heading",
     "level": 1,
     "metadata": {
      "slideshow": {
       "slide_type": "slide"
      }
     },
     "source": [
      "Yelp Data Analysis Project"
     ]
    },
    {
     "cell_type": "markdown",
     "metadata": {
      "slideshow": {
       "slide_type": "subslide"
      }
     },
     "source": [
      "Team Members:\n",
      "* Daniel Tong Shen\n",
      "* Chenjie Ma\n",
      "* Harish Kumar Palaniswamy\n",
      "* Samuel Lau"
     ]
    },
    {
     "cell_type": "heading",
     "level": 2,
     "metadata": {},
     "source": [
      "Problem"
     ]
    },
    {
     "cell_type": "markdown",
     "metadata": {},
     "source": [
      "With the [yelp academic dataset](https://www.yelp.com/academic_dataset), we wanted to provide restaurant recommendations to users in the dataset. We used three collaborative filtering methods to provide recommendations: \n",
      "* manhattan distance\n",
      "    $$d(x,y) = \\sum^n_{k=1}|x_k-y_k|$$\n",
      "* euclidean distance\n",
      "    $$d(x,y) = \\sqrt{\\sum^n_{k=1}{|x_k-y_k|}^2}$$\n",
      "* cosine similarity\n",
      "    $$cos(x,y)=\\frac{x\\cdot y}{\\|x\\|\\times\\|y\\|} $$\n",
      "    \n",
      "We used the "
     ]
    },
    {
     "cell_type": "heading",
     "level": 2,
     "metadata": {},
     "source": [
      "Data"
     ]
    },
    {
     "cell_type": "code",
     "collapsed": false,
     "input": [
      "%%bash\n",
      "\n",
      "head -21 ../stat133proj2/processed_data/onlyfood_users.txt"
     ],
     "language": "python",
     "metadata": {},
     "outputs": [
      {
       "output_type": "stream",
       "stream": "stdout",
       "text": [
        "{\n",
        "    \"CtXKeKjhT_SQVtgrvn8adQ\": {\n",
        "        \"reviews\": {\n",
        "            \"_Dc5E16rCL16j2xsUHw18Q\": {\n",
        "                \"rating\": 4, \n",
        "                \"state\": \"NY\", \n",
        "                \"city\": \"New York\"\n",
        "            }\n",
        "        }, \n",
        "        \"location\": \"Cambridge\"\n",
        "    }, \n",
        "    \"p0FNClcqkitN3xcJWZOx9w\": {\n",
        "        \"reviews\": {\n",
        "            \"roEQNfyPi3jRv3WFFr-f_g\": {\n",
        "                \"rating\": 3, \n",
        "                \"state\": \"CA\", \n",
        "                \"city\": \"La Jolla\"\n",
        "            }\n",
        "        }, \n",
        "        \"location\": \"La Jolla\"\n",
        "    }, \n"
       ]
      }
     ],
     "prompt_number": 76
    },
    {
     "cell_type": "code",
     "collapsed": false,
     "input": [
      "%%bash\n",
      "\n",
      "head -14 /home/oski/stat133/proj2/d3_network/data/Berkeley.json\n",
      "awk 'NR>=14562 && NR<=14570' /home/oski/stat133/proj2/d3_network/data/Berkeley.json"
     ],
     "language": "python",
     "metadata": {},
     "outputs": [
      {
       "output_type": "stream",
       "stream": "stdout",
       "text": [
        "{\n",
        "  \"nodes\": [\n",
        "    {\n",
        "      \"rest_recs\": \"\", \n",
        "      \"user_match\": \"\", \n",
        "      \"user_reviewcount\": 1, \n",
        "      \"_name\": \"Jonathan G.\"\n",
        "    }, \n",
        "    {\n",
        "      \"rest_recs\": \"\", \n",
        "      \"user_match\": \"\", \n",
        "      \"user_reviewcount\": 1, \n",
        "      \"_name\": \"Stan A.\"\n",
        "    }, \n",
        "  \"edges\": [\n",
        "    {\n",
        "      \"source\": 0, \n",
        "      \"target\": 2426\n",
        "    }, \n",
        "    {\n",
        "      \"source\": 1, \n",
        "      \"target\": 2426\n",
        "    }, \n"
       ]
      }
     ],
     "prompt_number": 70
    },
    {
     "cell_type": "heading",
     "level": 2,
     "metadata": {},
     "source": [
      "Challenges"
     ]
    },
    {
     "cell_type": "code",
     "collapsed": false,
     "input": [],
     "language": "python",
     "metadata": {},
     "outputs": [],
     "prompt_number": 8
    },
    {
     "cell_type": "heading",
     "level": 2,
     "metadata": {},
     "source": [
      "Results"
     ]
    },
    {
     "cell_type": "heading",
     "level": 3,
     "metadata": {},
     "source": [
      "Best Filtering Method"
     ]
    },
    {
     "cell_type": "markdown",
     "metadata": {},
     "source": [
      "In order to check the quality of our predictions, we calculated root mean square errors for each user. To calculate the errors, we found the average of all the absolute differences between a user's predicted ratings for a restaurant and their actual rating. In order to compare the two, we act as if the user didn't go to the business in the first place, and then compare the predicted rating from our collaborative filtering and the actual value. Here's the formula for each user:\n",
      "\n",
      "$${rms\\:error}=\\sqrt{\\frac{\\sum{(actual\\:rating-predicted\\:rating)}^2}{n}} $$\n",
      "where $n$ is the number of ratings a user has.\n",
      "\n",
      "Below is a comparison of the errors for each collaborative filtering method."
     ]
    },
    {
     "cell_type": "code",
     "collapsed": false,
     "input": [
      "%load_ext rmagic"
     ],
     "language": "python",
     "metadata": {},
     "outputs": [
      {
       "output_type": "stream",
       "stream": "stdout",
       "text": [
        "The rmagic extension is already loaded. To reload it, use:\n",
        "  %reload_ext rmagic\n"
       ]
      }
     ],
     "prompt_number": 22
    },
    {
     "cell_type": "code",
     "collapsed": false,
     "input": [
      "%%R -w 800 -h 500\n",
      "\n",
      "df = read.csv('../stat133proj2/processed_data/errors.csv', header=F)\n",
      "colnames(df) = c('User', 'Cosine Errors', 'Euclidean Errors', 'Manhattan Errors')\n",
      "\n",
      "# reshape the variables to long\n",
      "library(reshape)\n",
      "data = melt(df, id='User')\n",
      "\n",
      "library(ggplot2)\n",
      "\n",
      "ggplot(data, aes(x=value, colour=variable)) + geom_density() + ggtitle(\"Recommendation Systems\") + theme(plot.title = element_text(face=\"bold\"))"
     ],
     "language": "python",
     "metadata": {},
     "outputs": [
      {
       "metadata": {},
       "output_type": "display_data",
       "png": "[encoded data removed]"
      }
     ],
     "prompt_number": 27
    },
    {
     "cell_type": "code",
     "collapsed": false,
     "input": [
      "%%R -w 600 -h 400\n",
      "\n",
      "ggplot(data, aes(x=variable, y=value, fill=variable)) + geom_boxplot() + ggtitle(\"Recommendation Systems\")"
     ],
     "language": "python",
     "metadata": {},
     "outputs": [
      {
       "metadata": {},
       "output_type": "display_data",
       "png": "[encoded data removed]"
      }
     ],
     "prompt_number": 29
    },
    {
     "cell_type": "markdown",
     "metadata": {},
     "source": [
      "From above plots, you can see that the Cosine Method produces the smallest errors, with the Euclidean and Manhattan methods producing almost identifical errors. We use the Cosine Method to find matches and restaurant recommendations for the d3 user and business network. "
     ]
    },
    {
     "cell_type": "heading",
     "level": 3,
     "metadata": {},
     "source": [
      "User and Business Network"
     ]
    },
    {
     "cell_type": "code",
     "collapsed": false,
     "input": [
      "%%html\n",
      "<div id=\"d3-example\"></div>\n",
      "\n",
      "<style>\n",
      ".node {stroke: #fff; stroke-width: 1.5px;}\n",
      ".link {stroke: #999; stroke-opacity: .6;}\n",
      "</style>"
     ],
     "language": "python",
     "metadata": {},
     "outputs": [
      {
       "html": [
        "<div id=\"d3-example\"></div>\n",
        "\n",
        "<style>\n",
        ".node {stroke: #fff; stroke-width: 1.5px;}\n",
        ".link {stroke: #999; stroke-opacity: .6;}\n",
        "</style>"
       ],
       "metadata": {},
       "output_type": "display_data",
       "text": [
        "<IPython.core.display.HTML at 0xb4ad7e2c>"
       ]
      }
     ],
     "prompt_number": 1
    },
    {
     "cell_type": "code",
     "collapsed": false,
     "input": [
      "%%javascript\n",
      "\n",
      "require.config({paths: {d3: \"http://d3js.org/d3.v3.min\"}});\n",
      "\n",
      "require([\"d3\"], function(d3) {\n",
      "  var width = 800,\n",
      "      height = 400;\n",
      "\n",
      "  var color = d3.scale.category20();\n",
      "\n",
      "  var force = d3.layout.force()\n",
      "    .charge(-120)\n",
      "    .linkDistance(30)\n",
      "    .size([width, height]);\n",
      "\n",
      "  var svg = d3.select(\"#d3-example\").append(\"svg\")\n",
      "    .attr(\"width\", width)\n",
      "    .attr(\"height\", height);\n",
      "\n",
      "  d3.json(\"/home/oski/stat133/proj2/data/miserables.json\", function(error, graph) {\n",
      "    force.nodes(graph.nodes)\n",
      "         .links(graph.links)\n",
      "         .start();\n",
      "\n",
      "    var link = svg.selectAll(\".link\")\n",
      "        .data(graph.links)\n",
      "        .enter().append(\"line\")\n",
      "        .attr(\"class\", \"link\")\n",
      "        .style(\"stroke-width\", function(d) { return Math.sqrt(d.value); });\n",
      "\n",
      "    var node = svg.selectAll(\".node\")\n",
      "        .data(graph.nodes)\n",
      "        .enter().append(\"circle\")\n",
      "        .attr(\"class\", \"node\")\n",
      "        .attr(\"r\", 5)\n",
      "        .style(\"fill\", function(d) { return color(d.group); })\n",
      "        .call(force.drag);\n",
      "\n",
      "    node.append(\"title\")\n",
      "        .text(function(d) { return d.name; });\n",
      "\n",
      "    force.on(\"tick\", function() {\n",
      "      link.attr(\"x1\", function(d) { return d.source.x; })\n",
      "          .attr(\"y1\", function(d) { return d.source.y; })\n",
      "          .attr(\"x2\", function(d) { return d.target.x; })\n",
      "          .attr(\"y2\", function(d) { return d.target.y; });\n",
      "\n",
      "      node.attr(\"cx\", function(d) { return d.x; })\n",
      "          .attr(\"cy\", function(d) { return d.y; });\n",
      "    });\n",
      "  });\n",
      "});"
     ],
     "language": "python",
     "metadata": {},
     "outputs": [
      {
       "javascript": [
        "\n",
        "require.config({paths: {d3: \"http://d3js.org/d3.v3.min\"}});\n",
        "\n",
        "require([\"d3\"], function(d3) {\n",
        "  var width = 800,\n",
        "      height = 400;\n",
        "\n",
        "  var color = d3.scale.category20();\n",
        "\n",
        "  var force = d3.layout.force()\n",
        "    .charge(-120)\n",
        "    .linkDistance(30)\n",
        "    .size([width, height]);\n",
        "\n",
        "  var svg = d3.select(\"#d3-example\").append(\"svg\")\n",
        "    .attr(\"width\", width)\n",
        "    .attr(\"height\", height);\n",
        "\n",
        "  d3.json(\"/home/oski/stat133/proj2/data/miserables.json\", function(error, graph) {\n",
        "    force.nodes(graph.nodes)\n",
        "         .links(graph.links)\n",
        "         .start();\n",
        "\n",
        "    var link = svg.selectAll(\".link\")\n",
        "        .data(graph.links)\n",
        "        .enter().append(\"line\")\n",
        "        .attr(\"class\", \"link\")\n",
        "        .style(\"stroke-width\", function(d) { return Math.sqrt(d.value); });\n",
        "\n",
        "    var node = svg.selectAll(\".node\")\n",
        "        .data(graph.nodes)\n",
        "        .enter().append(\"circle\")\n",
        "        .attr(\"class\", \"node\")\n",
        "        .attr(\"r\", 5)\n",
        "        .style(\"fill\", function(d) { return color(d.group); })\n",
        "        .call(force.drag);\n",
        "\n",
        "    node.append(\"title\")\n",
        "        .text(function(d) { return d.name; });\n",
        "\n",
        "    force.on(\"tick\", function() {\n",
        "      link.attr(\"x1\", function(d) { return d.source.x; })\n",
        "          .attr(\"y1\", function(d) { return d.source.y; })\n",
        "          .attr(\"x2\", function(d) { return d.target.x; })\n",
        "          .attr(\"y2\", function(d) { return d.target.y; });\n",
        "\n",
        "      node.attr(\"cx\", function(d) { return d.x; })\n",
        "          .attr(\"cy\", function(d) { return d.y; });\n",
        "    });\n",
        "  });\n",
        "});"
       ],
       "metadata": {},
       "output_type": "display_data",
       "text": [
        "<IPython.core.display.Javascript at 0xb4ad7e0c>"
       ]
      }
     ],
     "prompt_number": 2
    },
    {
     "cell_type": "markdown",
     "metadata": {
      "slideshow": {
       "slide_type": "-"
      }
     },
     "source": [
      "In this notebook, you'll sumarize your finding for the class presentation. \n",
      "\n",
      "\n",
      "The class presentation will use this notebook in slide mode, as I do during lecture time.\n",
      "\n",
      "You'll need to download the following [zip file](https://github.com/fperez/nb-slideshow-template/archive/master.zip), unzip it, and run the following notebook <code>install-support.ipynb</code> to install the slide capabilities.\n",
      "\n",
      "The notebook <code>notebook-slideshow-example.ipynb</code> will give you examples on how to use slides within the iPython notebook.  \n",
      "\n",
      "You should also write this notebook so that you can convert it nicely into a pdf document using the commands\n",
      "\n",
      "    ipython nbconvert NB4_report.pynb --to latex\n",
      "    pdflatex NB4_report.tex\n",
      "    \n",
      "See [here](http://ipython.org/ipython-doc/rel-1.0.0/interactive/nbconvert.html) for further references on how to do that. \n",
      "\n",
      "In this notebook, you'll\n",
      "\n",
      "* describe your problem as stated in the propectus \n",
      " \n",
      " \n",
      "* comment on your data sources, on their format, on the difficulties to get them\n",
      "\n",
      "\n",
      "* present the main challenge you encountered\n",
      "\n",
      "\n",
      "* present your finding in the form of expresive graphics\n",
      "\n",
      "Be sure to include an introduction section motivating your visualizations, with a description of the substantive context and why it is interesting.\n",
      "\n",
      "\n",
      "Cite the source of the data and any other references that you used in carrying out your project.\n"
     ]
    },
    {
     "cell_type": "markdown",
     "metadata": {
      "slideshow": {
       "slide_type": "slide"
      }
     },
     "source": [
      "##Team members responsible for this notebook:\n",
      "\n",
      "* team member 1 **Samuel Lau**: describe, comment on, and present results"
     ]
    },
    {
     "cell_type": "code",
     "collapsed": false,
     "input": [
      "%%bash\n",
      "\n",
      "ipython nbconvert NB4_project_report.ipynb --to latex\n",
      "pdflatex NB4_project_report.tex"
     ],
     "language": "python",
     "metadata": {},
     "outputs": [
      {
       "output_type": "stream",
       "stream": "stdout",
       "text": [
        "This is pdfTeX, Version 3.1415926-2.5-1.40.14 (TeX Live 2013/Debian)\n",
        " restricted \\write18 enabled.\n",
        "entering extended mode\n",
        "(./NB4_project_report.tex\n",
        "LaTeX2e <2011/06/27>\n",
        "Babel <3.9h> and hyphenation patterns for 2 languages loaded.\n",
        "(/usr/share/texlive/texmf-dist/tex/latex/base/article.cls\n",
        "Document Class: article 2007/10/19 v1.4h Standard LaTeX document class\n",
        "(/usr/share/texlive/texmf-dist/tex/latex/base/size10.clo))\n",
        "(/usr/share/texlive/texmf-dist/tex/latex/graphics/graphicx.sty\n",
        "(/usr/share/texlive/texmf-dist/tex/latex/graphics/keyval.sty)\n",
        "(/usr/share/texlive/texmf-dist/tex/latex/graphics/graphics.sty\n",
        "(/usr/share/texlive/texmf-dist/tex/latex/graphics/trig.sty)\n",
        "(/usr/share/texlive/texmf-dist/tex/latex/latexconfig/graphics.cfg)\n",
        "(/usr/share/texlive/texmf-dist/tex/latex/pdftex-def/pdftex.def\n",
        "(/usr/share/texlive/texmf-dist/tex/generic/oberdiek/infwarerr.sty)\n",
        "(/usr/share/texlive/texmf-dist/tex/generic/oberdiek/ltxcmds.sty))))\n",
        "(/usr/share/texlive/texmf-dist/tex/latex/adjustbox/adjustbox.sty\n",
        "(/usr/share/texlive/texmf-dist/tex/latex/xkeyval/xkeyval.sty\n",
        "(/usr/share/texlive/texmf-dist/tex/generic/xkeyval/xkeyval.tex))\n",
        "(/usr/share/texlive/texmf-dist/tex/latex/adjustbox/adjcalc.sty)\n",
        "(/usr/share/texlive/texmf-dist/tex/latex/adjustbox/trimclip.sty\n",
        "(/usr/share/texlive/texmf-dist/tex/latex/collectbox/collectbox.sty)\n",
        "(/usr/share/texlive/texmf-dist/tex/latex/adjustbox/tc-pdftex.def))\n",
        "(/usr/share/texlive/texmf-dist/tex/latex/ifoddpage/ifoddpage.sty)\n",
        "(/usr/share/texlive/texmf-dist/tex/latex/varwidth/varwidth.sty))\n",
        "(/usr/share/texlive/texmf-dist/tex/latex/graphics/color.sty\n",
        "(/usr/share/texlive/texmf-dist/tex/latex/latexconfig/color.cfg))\n",
        "(/usr/share/texlive/texmf-dist/tex/latex/tools/enumerate.sty)\n",
        "(/usr/share/texlive/texmf-dist/tex/latex/geometry/geometry.sty\n",
        "(/usr/share/texlive/texmf-dist/tex/generic/oberdiek/ifpdf.sty)\n",
        "(/usr/share/texlive/texmf-dist/tex/generic/oberdiek/ifvtex.sty)\n",
        "(/usr/share/texlive/texmf-dist/tex/generic/ifxetex/ifxetex.sty))\n",
        "(/usr/share/texlive/texmf-dist/tex/latex/amsmath/amsmath.sty\n",
        "For additional information on amsmath, use the `?' option.\n",
        "(/usr/share/texlive/texmf-dist/tex/latex/amsmath/amstext.sty\n",
        "(/usr/share/texlive/texmf-dist/tex/latex/amsmath/amsgen.sty))\n",
        "(/usr/share/texlive/texmf-dist/tex/latex/amsmath/amsbsy.sty)\n",
        "(/usr/share/texlive/texmf-dist/tex/latex/amsmath/amsopn.sty))\n",
        "(/usr/share/texlive/texmf-dist/tex/latex/amsfonts/amssymb.sty\n",
        "(/usr/share/texlive/texmf-dist/tex/latex/amsfonts/amsfonts.sty))\n",
        "(/usr/share/texlive/texmf-dist/tex/latex/ucs/ucs.sty\n",
        "(/usr/share/texlive/texmf-dist/tex/latex/ucs/data/uni-global.def))\n",
        "(/usr/share/texlive/texmf-dist/tex/latex/base/inputenc.sty\n",
        "(/usr/share/texlive/texmf-dist/tex/latex/ucs/utf8x.def))\n",
        "(/usr/share/texlive/texmf-dist/tex/latex/fancyvrb/fancyvrb.sty\n",
        "Style option: `fancyvrb' v2.7a, with DG/SPQR fixes, and firstline=lastline fix \n",
        "<2008/02/07> (tvz))\n",
        "(/usr/share/texlive/texmf-dist/tex/latex/oberdiek/grffile.sty\n",
        "(/usr/share/texlive/texmf-dist/tex/latex/oberdiek/kvoptions.sty\n",
        "(/usr/share/texlive/texmf-dist/tex/generic/oberdiek/kvsetkeys.sty\n",
        "(/usr/share/texlive/texmf-dist/tex/generic/oberdiek/etexcmds.sty\n",
        "(/usr/share/texlive/texmf-dist/tex/generic/oberdiek/ifluatex.sty))))\n",
        "(/usr/share/texlive/texmf-dist/tex/generic/oberdiek/pdftexcmds.sty))\n",
        "(/usr/share/texlive/texmf-dist/tex/latex/hyperref/hyperref.sty\n",
        "(/usr/share/texlive/texmf-dist/tex/generic/oberdiek/hobsub-hyperref.sty\n",
        "(/usr/share/texlive/texmf-dist/tex/generic/oberdiek/hobsub-generic.sty))\n",
        "(/usr/share/texlive/texmf-dist/tex/latex/oberdiek/auxhook.sty)\n",
        "(/usr/share/texlive/texmf-dist/tex/latex/hyperref/pd1enc.def)\n",
        "(/usr/share/texlive/texmf-dist/tex/latex/latexconfig/hyperref.cfg)\n",
        "(/usr/share/texlive/texmf-dist/tex/latex/url/url.sty))\n",
        "\n",
        "Package hyperref Message: Driver (autodetected): hpdftex.\n",
        "\n",
        "(/usr/share/texlive/texmf-dist/tex/latex/hyperref/hpdftex.def\n",
        "(/usr/share/texlive/texmf-dist/tex/latex/oberdiek/rerunfilecheck.sty))\n",
        "(/usr/share/texlive/texmf-dist/tex/latex/tools/longtable.sty)\n",
        "(./NB4_project_report.aux)\n",
        "(/usr/share/texlive/texmf-dist/tex/context/base/supp-pdf.mkii\n",
        "[Loading MPS to PDF converter (version 2006.09.02).]\n",
        ") (/usr/share/texlive/texmf-dist/tex/latex/oberdiek/epstopdf-base.sty\n",
        "(/usr/share/texlive/texmf-dist/tex/latex/oberdiek/grfext.sty)\n",
        "(/usr/share/texlive/texmf-dist/tex/latex/latexconfig/epstopdf-sys.cfg))\n",
        "*geometry* driver: auto-detecting\n",
        "*geometry* detected driver: pdftex\n",
        "\n",
        "Package geometry Warning: The marginal notes overrun the paper.\n",
        "     Add 3.73001pt and more to the right margin.\n",
        "\n",
        "*geometry* verbose mode - [ preamble ] result:\n",
        "* driver: pdftex\n",
        "* paper: <default>\n",
        "* layout: <same size as paper>\n",
        "* layoutoffset:(h,v)=(0.0pt,0.0pt)\n",
        "* modes: \n",
        "* h-part:(L,W,R)=(72.26999pt, 469.75502pt, 72.26999pt)\n",
        "* v-part:(T,H,B)=(72.26999pt, 650.43001pt, 72.26999pt)\n",
        "* \\paperwidth=614.295pt\n",
        "* \\paperheight=794.96999pt\n",
        "* \\textwidth=469.75502pt\n",
        "* \\textheight=650.43001pt\n",
        "* \\oddsidemargin=0.0pt\n",
        "* \\evensidemargin=0.0pt\n",
        "* \\topmargin=-37.0pt\n",
        "* \\headheight=12.0pt\n",
        "* \\headsep=25.0pt\n",
        "* \\topskip=10.0pt\n",
        "* \\footskip=30.0pt\n",
        "* \\marginparwidth=65.0pt\n",
        "* \\marginparsep=11.0pt\n",
        "* \\columnsep=10.0pt\n",
        "* \\skip\\footins=9.0pt plus 4.0pt minus 2.0pt\n",
        "* \\hoffset=0.0pt\n",
        "* \\voffset=0.0pt\n",
        "* \\mag=1000\n",
        "* \\@twocolumnfalse\n",
        "* \\@twosidefalse\n",
        "* \\@mparswitchfalse\n",
        "* \\@reversemarginfalse\n",
        "* (1in=72.27pt=25.4mm, 1cm=28.453pt)\n",
        "\n",
        "(/usr/share/texlive/texmf-dist/tex/latex/ucs/ucsencs.def)\n",
        "(/usr/share/texlive/texmf-dist/tex/latex/hyperref/nameref.sty\n",
        "(/usr/share/texlive/texmf-dist/tex/generic/oberdiek/gettitlestring.sty))\n",
        "(./NB4_project_report.out) (./NB4_project_report.out)\n",
        "(/usr/share/texlive/texmf-dist/tex/latex/amsfonts/umsa.fd)\n",
        "(/usr/share/texlive/texmf-dist/tex/latex/amsfonts/umsb.fd)\n",
        "\n",
        "LaTeX Warning: No \\author given.\n",
        "\n",
        "(/usr/share/texlive/texmf-dist/tex/latex/base/omscmr.fd)\n",
        "(/usr/share/texmf/tex/latex/R/tex/latex/omscmtt.fd) [1{/var/lib/texmf/fonts/map\n",
        "/pdftex/updmap/pdftex.map}] [2] [3] [4] (./NB4_project_report.aux) )</usr/share\n",
        "/texlive/texmf-dist/fonts/type1/public/amsfonts/cm/cmbx10.pfb></usr/share/texli\n",
        "ve/texmf-dist/fonts/type1/public/amsfonts/cm/cmbx12.pfb></usr/share/texlive/tex\n",
        "mf-dist/fonts/type1/public/amsfonts/cm/cmr10.pfb></usr/share/texlive/texmf-dist\n",
        "/fonts/type1/public/amsfonts/cm/cmr12.pfb></usr/share/texlive/texmf-dist/fonts/\n",
        "type1/public/amsfonts/cm/cmr17.pfb></usr/share/texlive/texmf-dist/fonts/type1/p\n",
        "ublic/amsfonts/cm/cmsy10.pfb></usr/share/texlive/texmf-dist/fonts/type1/public/\n",
        "amsfonts/cm/cmtt10.pfb>\n",
        "Output written on NB4_project_report.pdf (4 pages, 91085 bytes).\n",
        "Transcript written on NB4_project_report.log.\n"
       ]
      },
      {
       "output_type": "stream",
       "stream": "stderr",
       "text": [
        "[NbConvertApp] Using existing profile dir: u'/home/oski/.ipython/profile_default'\n",
        "[NbConvertApp] Converting notebook NB4_project_report.ipynb to latex\n",
        "[NbConvertApp] Support files will be in NB4_project_report_files/\n",
        "[NbConvertApp] Loaded template article.tplx\n",
        "[NbConvertApp] Writing 21048 bytes to NB4_project_report.tex\n"
       ]
      }
     ],
     "prompt_number": 8
    }
   ],
   "metadata": {}
  }
 ]
}